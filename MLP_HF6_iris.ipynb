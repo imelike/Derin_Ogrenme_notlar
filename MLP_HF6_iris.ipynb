{
  "nbformat": 4,
  "nbformat_minor": 0,
  "metadata": {
    "colab": {
      "provenance": [],
      "include_colab_link": true
    },
    "kernelspec": {
      "name": "python3",
      "display_name": "Python 3"
    },
    "language_info": {
      "name": "python"
    }
  },
  "cells": [
    {
      "cell_type": "markdown",
      "metadata": {
        "id": "view-in-github",
        "colab_type": "text"
      },
      "source": [
        "<a href=\"https://colab.research.google.com/github/imelike/Derin_Ogrenme_notlar/blob/main/MLP_HF6_iris.ipynb\" target=\"_parent\"><img src=\"https://colab.research.google.com/assets/colab-badge.svg\" alt=\"Open In Colab\"/></a>"
      ]
    },
    {
      "cell_type": "code",
      "execution_count": null,
      "metadata": {
        "id": "kJN2mAwzwTKH"
      },
      "outputs": [],
      "source": [
        "from keras.models import Sequential\n",
        "from keras.layers import Dense\n",
        "import pandas as pd\n",
        "import numpy as np"
      ]
    },
    {
      "cell_type": "code",
      "source": [
        "veri=pd.read_csv(\"iris.csv\")"
      ],
      "metadata": {
        "id": "zhGFAdURwfYQ"
      },
      "execution_count": null,
      "outputs": []
    },
    {
      "cell_type": "code",
      "source": [
        "veri.head()"
      ],
      "metadata": {
        "colab": {
          "base_uri": "https://localhost:8080/",
          "height": 206
        },
        "id": "DmE_YAz0womB",
        "outputId": "b8661b56-3daf-4268-8fef-9ee358db1cb1"
      },
      "execution_count": null,
      "outputs": [
        {
          "output_type": "execute_result",
          "data": {
            "text/plain": [
              "   sepal_length  sepal_width  petal_length  petal_width species\n",
              "0           5.1          3.5           1.4          0.2  setosa\n",
              "1           4.9          3.0           1.4          0.2  setosa\n",
              "2           4.7          3.2           1.3          0.2  setosa\n",
              "3           4.6          3.1           1.5          0.2  setosa\n",
              "4           5.0          3.6           1.4          0.2  setosa"
            ],
            "text/html": [
              "\n",
              "  <div id=\"df-9f457ded-844e-4f1a-9121-8e3915c96d03\" class=\"colab-df-container\">\n",
              "    <div>\n",
              "<style scoped>\n",
              "    .dataframe tbody tr th:only-of-type {\n",
              "        vertical-align: middle;\n",
              "    }\n",
              "\n",
              "    .dataframe tbody tr th {\n",
              "        vertical-align: top;\n",
              "    }\n",
              "\n",
              "    .dataframe thead th {\n",
              "        text-align: right;\n",
              "    }\n",
              "</style>\n",
              "<table border=\"1\" class=\"dataframe\">\n",
              "  <thead>\n",
              "    <tr style=\"text-align: right;\">\n",
              "      <th></th>\n",
              "      <th>sepal_length</th>\n",
              "      <th>sepal_width</th>\n",
              "      <th>petal_length</th>\n",
              "      <th>petal_width</th>\n",
              "      <th>species</th>\n",
              "    </tr>\n",
              "  </thead>\n",
              "  <tbody>\n",
              "    <tr>\n",
              "      <th>0</th>\n",
              "      <td>5.1</td>\n",
              "      <td>3.5</td>\n",
              "      <td>1.4</td>\n",
              "      <td>0.2</td>\n",
              "      <td>setosa</td>\n",
              "    </tr>\n",
              "    <tr>\n",
              "      <th>1</th>\n",
              "      <td>4.9</td>\n",
              "      <td>3.0</td>\n",
              "      <td>1.4</td>\n",
              "      <td>0.2</td>\n",
              "      <td>setosa</td>\n",
              "    </tr>\n",
              "    <tr>\n",
              "      <th>2</th>\n",
              "      <td>4.7</td>\n",
              "      <td>3.2</td>\n",
              "      <td>1.3</td>\n",
              "      <td>0.2</td>\n",
              "      <td>setosa</td>\n",
              "    </tr>\n",
              "    <tr>\n",
              "      <th>3</th>\n",
              "      <td>4.6</td>\n",
              "      <td>3.1</td>\n",
              "      <td>1.5</td>\n",
              "      <td>0.2</td>\n",
              "      <td>setosa</td>\n",
              "    </tr>\n",
              "    <tr>\n",
              "      <th>4</th>\n",
              "      <td>5.0</td>\n",
              "      <td>3.6</td>\n",
              "      <td>1.4</td>\n",
              "      <td>0.2</td>\n",
              "      <td>setosa</td>\n",
              "    </tr>\n",
              "  </tbody>\n",
              "</table>\n",
              "</div>\n",
              "    <div class=\"colab-df-buttons\">\n",
              "\n",
              "  <div class=\"colab-df-container\">\n",
              "    <button class=\"colab-df-convert\" onclick=\"convertToInteractive('df-9f457ded-844e-4f1a-9121-8e3915c96d03')\"\n",
              "            title=\"Convert this dataframe to an interactive table.\"\n",
              "            style=\"display:none;\">\n",
              "\n",
              "  <svg xmlns=\"http://www.w3.org/2000/svg\" height=\"24px\" viewBox=\"0 -960 960 960\">\n",
              "    <path d=\"M120-120v-720h720v720H120Zm60-500h600v-160H180v160Zm220 220h160v-160H400v160Zm0 220h160v-160H400v160ZM180-400h160v-160H180v160Zm440 0h160v-160H620v160ZM180-180h160v-160H180v160Zm440 0h160v-160H620v160Z\"/>\n",
              "  </svg>\n",
              "    </button>\n",
              "\n",
              "  <style>\n",
              "    .colab-df-container {\n",
              "      display:flex;\n",
              "      gap: 12px;\n",
              "    }\n",
              "\n",
              "    .colab-df-convert {\n",
              "      background-color: #E8F0FE;\n",
              "      border: none;\n",
              "      border-radius: 50%;\n",
              "      cursor: pointer;\n",
              "      display: none;\n",
              "      fill: #1967D2;\n",
              "      height: 32px;\n",
              "      padding: 0 0 0 0;\n",
              "      width: 32px;\n",
              "    }\n",
              "\n",
              "    .colab-df-convert:hover {\n",
              "      background-color: #E2EBFA;\n",
              "      box-shadow: 0px 1px 2px rgba(60, 64, 67, 0.3), 0px 1px 3px 1px rgba(60, 64, 67, 0.15);\n",
              "      fill: #174EA6;\n",
              "    }\n",
              "\n",
              "    .colab-df-buttons div {\n",
              "      margin-bottom: 4px;\n",
              "    }\n",
              "\n",
              "    [theme=dark] .colab-df-convert {\n",
              "      background-color: #3B4455;\n",
              "      fill: #D2E3FC;\n",
              "    }\n",
              "\n",
              "    [theme=dark] .colab-df-convert:hover {\n",
              "      background-color: #434B5C;\n",
              "      box-shadow: 0px 1px 3px 1px rgba(0, 0, 0, 0.15);\n",
              "      filter: drop-shadow(0px 1px 2px rgba(0, 0, 0, 0.3));\n",
              "      fill: #FFFFFF;\n",
              "    }\n",
              "  </style>\n",
              "\n",
              "    <script>\n",
              "      const buttonEl =\n",
              "        document.querySelector('#df-9f457ded-844e-4f1a-9121-8e3915c96d03 button.colab-df-convert');\n",
              "      buttonEl.style.display =\n",
              "        google.colab.kernel.accessAllowed ? 'block' : 'none';\n",
              "\n",
              "      async function convertToInteractive(key) {\n",
              "        const element = document.querySelector('#df-9f457ded-844e-4f1a-9121-8e3915c96d03');\n",
              "        const dataTable =\n",
              "          await google.colab.kernel.invokeFunction('convertToInteractive',\n",
              "                                                    [key], {});\n",
              "        if (!dataTable) return;\n",
              "\n",
              "        const docLinkHtml = 'Like what you see? Visit the ' +\n",
              "          '<a target=\"_blank\" href=https://colab.research.google.com/notebooks/data_table.ipynb>data table notebook</a>'\n",
              "          + ' to learn more about interactive tables.';\n",
              "        element.innerHTML = '';\n",
              "        dataTable['output_type'] = 'display_data';\n",
              "        await google.colab.output.renderOutput(dataTable, element);\n",
              "        const docLink = document.createElement('div');\n",
              "        docLink.innerHTML = docLinkHtml;\n",
              "        element.appendChild(docLink);\n",
              "      }\n",
              "    </script>\n",
              "  </div>\n",
              "\n",
              "\n",
              "<div id=\"df-6d95fb98-7a29-4616-a5cd-3546a305ca40\">\n",
              "  <button class=\"colab-df-quickchart\" onclick=\"quickchart('df-6d95fb98-7a29-4616-a5cd-3546a305ca40')\"\n",
              "            title=\"Suggest charts.\"\n",
              "            style=\"display:none;\">\n",
              "\n",
              "<svg xmlns=\"http://www.w3.org/2000/svg\" height=\"24px\"viewBox=\"0 0 24 24\"\n",
              "     width=\"24px\">\n",
              "    <g>\n",
              "        <path d=\"M19 3H5c-1.1 0-2 .9-2 2v14c0 1.1.9 2 2 2h14c1.1 0 2-.9 2-2V5c0-1.1-.9-2-2-2zM9 17H7v-7h2v7zm4 0h-2V7h2v10zm4 0h-2v-4h2v4z\"/>\n",
              "    </g>\n",
              "</svg>\n",
              "  </button>\n",
              "\n",
              "<style>\n",
              "  .colab-df-quickchart {\n",
              "      --bg-color: #E8F0FE;\n",
              "      --fill-color: #1967D2;\n",
              "      --hover-bg-color: #E2EBFA;\n",
              "      --hover-fill-color: #174EA6;\n",
              "      --disabled-fill-color: #AAA;\n",
              "      --disabled-bg-color: #DDD;\n",
              "  }\n",
              "\n",
              "  [theme=dark] .colab-df-quickchart {\n",
              "      --bg-color: #3B4455;\n",
              "      --fill-color: #D2E3FC;\n",
              "      --hover-bg-color: #434B5C;\n",
              "      --hover-fill-color: #FFFFFF;\n",
              "      --disabled-bg-color: #3B4455;\n",
              "      --disabled-fill-color: #666;\n",
              "  }\n",
              "\n",
              "  .colab-df-quickchart {\n",
              "    background-color: var(--bg-color);\n",
              "    border: none;\n",
              "    border-radius: 50%;\n",
              "    cursor: pointer;\n",
              "    display: none;\n",
              "    fill: var(--fill-color);\n",
              "    height: 32px;\n",
              "    padding: 0;\n",
              "    width: 32px;\n",
              "  }\n",
              "\n",
              "  .colab-df-quickchart:hover {\n",
              "    background-color: var(--hover-bg-color);\n",
              "    box-shadow: 0 1px 2px rgba(60, 64, 67, 0.3), 0 1px 3px 1px rgba(60, 64, 67, 0.15);\n",
              "    fill: var(--button-hover-fill-color);\n",
              "  }\n",
              "\n",
              "  .colab-df-quickchart-complete:disabled,\n",
              "  .colab-df-quickchart-complete:disabled:hover {\n",
              "    background-color: var(--disabled-bg-color);\n",
              "    fill: var(--disabled-fill-color);\n",
              "    box-shadow: none;\n",
              "  }\n",
              "\n",
              "  .colab-df-spinner {\n",
              "    border: 2px solid var(--fill-color);\n",
              "    border-color: transparent;\n",
              "    border-bottom-color: var(--fill-color);\n",
              "    animation:\n",
              "      spin 1s steps(1) infinite;\n",
              "  }\n",
              "\n",
              "  @keyframes spin {\n",
              "    0% {\n",
              "      border-color: transparent;\n",
              "      border-bottom-color: var(--fill-color);\n",
              "      border-left-color: var(--fill-color);\n",
              "    }\n",
              "    20% {\n",
              "      border-color: transparent;\n",
              "      border-left-color: var(--fill-color);\n",
              "      border-top-color: var(--fill-color);\n",
              "    }\n",
              "    30% {\n",
              "      border-color: transparent;\n",
              "      border-left-color: var(--fill-color);\n",
              "      border-top-color: var(--fill-color);\n",
              "      border-right-color: var(--fill-color);\n",
              "    }\n",
              "    40% {\n",
              "      border-color: transparent;\n",
              "      border-right-color: var(--fill-color);\n",
              "      border-top-color: var(--fill-color);\n",
              "    }\n",
              "    60% {\n",
              "      border-color: transparent;\n",
              "      border-right-color: var(--fill-color);\n",
              "    }\n",
              "    80% {\n",
              "      border-color: transparent;\n",
              "      border-right-color: var(--fill-color);\n",
              "      border-bottom-color: var(--fill-color);\n",
              "    }\n",
              "    90% {\n",
              "      border-color: transparent;\n",
              "      border-bottom-color: var(--fill-color);\n",
              "    }\n",
              "  }\n",
              "</style>\n",
              "\n",
              "  <script>\n",
              "    async function quickchart(key) {\n",
              "      const quickchartButtonEl =\n",
              "        document.querySelector('#' + key + ' button');\n",
              "      quickchartButtonEl.disabled = true;  // To prevent multiple clicks.\n",
              "      quickchartButtonEl.classList.add('colab-df-spinner');\n",
              "      try {\n",
              "        const charts = await google.colab.kernel.invokeFunction(\n",
              "            'suggestCharts', [key], {});\n",
              "      } catch (error) {\n",
              "        console.error('Error during call to suggestCharts:', error);\n",
              "      }\n",
              "      quickchartButtonEl.classList.remove('colab-df-spinner');\n",
              "      quickchartButtonEl.classList.add('colab-df-quickchart-complete');\n",
              "    }\n",
              "    (() => {\n",
              "      let quickchartButtonEl =\n",
              "        document.querySelector('#df-6d95fb98-7a29-4616-a5cd-3546a305ca40 button');\n",
              "      quickchartButtonEl.style.display =\n",
              "        google.colab.kernel.accessAllowed ? 'block' : 'none';\n",
              "    })();\n",
              "  </script>\n",
              "</div>\n",
              "    </div>\n",
              "  </div>\n"
            ]
          },
          "metadata": {},
          "execution_count": 3
        }
      ]
    },
    {
      "cell_type": "code",
      "source": [
        "X=veri.drop('species',axis=1)\n",
        "y=veri['species']"
      ],
      "metadata": {
        "id": "LXelG0JGynp0"
      },
      "execution_count": null,
      "outputs": []
    },
    {
      "cell_type": "code",
      "source": [
        "num_labels=len(np.unique(y))"
      ],
      "metadata": {
        "colab": {
          "base_uri": "https://localhost:8080/"
        },
        "id": "zH_o36wMzQQ2",
        "outputId": "3cf9ed32-cb4e-4098-8d0f-9db3ef51de14"
      },
      "execution_count": null,
      "outputs": [
        {
          "output_type": "execute_result",
          "data": {
            "text/plain": [
              "3"
            ]
          },
          "metadata": {},
          "execution_count": 14
        }
      ]
    },
    {
      "cell_type": "code",
      "source": [
        "y"
      ],
      "metadata": {
        "colab": {
          "base_uri": "https://localhost:8080/"
        },
        "id": "mwPa82ZK6dud",
        "outputId": "226dbbe2-7844-421e-f84d-583761d17ad3"
      },
      "execution_count": null,
      "outputs": [
        {
          "output_type": "execute_result",
          "data": {
            "text/plain": [
              "0         setosa\n",
              "1         setosa\n",
              "2         setosa\n",
              "3         setosa\n",
              "4         setosa\n",
              "         ...    \n",
              "145    virginica\n",
              "146    virginica\n",
              "147    virginica\n",
              "148    virginica\n",
              "149    virginica\n",
              "Name: species, Length: 150, dtype: object"
            ]
          },
          "metadata": {},
          "execution_count": 18
        }
      ]
    },
    {
      "cell_type": "code",
      "source": [
        "import tensorflow as tf\n",
        "from sklearn.preprocessing import LabelEncoder\n",
        "le = LabelEncoder()\n",
        "y=le.fit_transform(y)"
      ],
      "metadata": {
        "id": "irvaaxMg3ohz"
      },
      "execution_count": null,
      "outputs": []
    },
    {
      "cell_type": "code",
      "source": [
        "y"
      ],
      "metadata": {
        "colab": {
          "base_uri": "https://localhost:8080/"
        },
        "id": "HitXpGTQ7Vmu",
        "outputId": "a98b934a-ea72-4104-ec35-f8871c6fb3df"
      },
      "execution_count": null,
      "outputs": [
        {
          "output_type": "execute_result",
          "data": {
            "text/plain": [
              "array([0, 0, 0, 0, 0, 0, 0, 0, 0, 0, 0, 0, 0, 0, 0, 0, 0, 0, 0, 0, 0, 0,\n",
              "       0, 0, 0, 0, 0, 0, 0, 0, 0, 0, 0, 0, 0, 0, 0, 0, 0, 0, 0, 0, 0, 0,\n",
              "       0, 0, 0, 0, 0, 0, 1, 1, 1, 1, 1, 1, 1, 1, 1, 1, 1, 1, 1, 1, 1, 1,\n",
              "       1, 1, 1, 1, 1, 1, 1, 1, 1, 1, 1, 1, 1, 1, 1, 1, 1, 1, 1, 1, 1, 1,\n",
              "       1, 1, 1, 1, 1, 1, 1, 1, 1, 1, 1, 1, 2, 2, 2, 2, 2, 2, 2, 2, 2, 2,\n",
              "       2, 2, 2, 2, 2, 2, 2, 2, 2, 2, 2, 2, 2, 2, 2, 2, 2, 2, 2, 2, 2, 2,\n",
              "       2, 2, 2, 2, 2, 2, 2, 2, 2, 2, 2, 2, 2, 2, 2, 2, 2, 2])"
            ]
          },
          "metadata": {},
          "execution_count": 26
        }
      ]
    },
    {
      "cell_type": "code",
      "source": [
        "y=tf.keras.utils.to_categorical(y)"
      ],
      "metadata": {
        "id": "Ktbx2HAA4J4B"
      },
      "execution_count": null,
      "outputs": []
    },
    {
      "cell_type": "code",
      "source": [
        "y"
      ],
      "metadata": {
        "colab": {
          "base_uri": "https://localhost:8080/"
        },
        "id": "kRInb3pU75ix",
        "outputId": "b14971b3-d0ed-4a11-cdb8-a876b19f10e2"
      },
      "execution_count": null,
      "outputs": [
        {
          "output_type": "execute_result",
          "data": {
            "text/plain": [
              "array([[1., 0., 0.],\n",
              "       [1., 0., 0.],\n",
              "       [1., 0., 0.],\n",
              "       [1., 0., 0.],\n",
              "       [1., 0., 0.],\n",
              "       [1., 0., 0.],\n",
              "       [1., 0., 0.],\n",
              "       [1., 0., 0.],\n",
              "       [1., 0., 0.],\n",
              "       [1., 0., 0.],\n",
              "       [1., 0., 0.],\n",
              "       [1., 0., 0.],\n",
              "       [1., 0., 0.],\n",
              "       [1., 0., 0.],\n",
              "       [1., 0., 0.],\n",
              "       [1., 0., 0.],\n",
              "       [1., 0., 0.],\n",
              "       [1., 0., 0.],\n",
              "       [1., 0., 0.],\n",
              "       [1., 0., 0.],\n",
              "       [1., 0., 0.],\n",
              "       [1., 0., 0.],\n",
              "       [1., 0., 0.],\n",
              "       [1., 0., 0.],\n",
              "       [1., 0., 0.],\n",
              "       [1., 0., 0.],\n",
              "       [1., 0., 0.],\n",
              "       [1., 0., 0.],\n",
              "       [1., 0., 0.],\n",
              "       [1., 0., 0.],\n",
              "       [1., 0., 0.],\n",
              "       [1., 0., 0.],\n",
              "       [1., 0., 0.],\n",
              "       [1., 0., 0.],\n",
              "       [1., 0., 0.],\n",
              "       [1., 0., 0.],\n",
              "       [1., 0., 0.],\n",
              "       [1., 0., 0.],\n",
              "       [1., 0., 0.],\n",
              "       [1., 0., 0.],\n",
              "       [1., 0., 0.],\n",
              "       [1., 0., 0.],\n",
              "       [1., 0., 0.],\n",
              "       [1., 0., 0.],\n",
              "       [1., 0., 0.],\n",
              "       [1., 0., 0.],\n",
              "       [1., 0., 0.],\n",
              "       [1., 0., 0.],\n",
              "       [1., 0., 0.],\n",
              "       [1., 0., 0.],\n",
              "       [0., 1., 0.],\n",
              "       [0., 1., 0.],\n",
              "       [0., 1., 0.],\n",
              "       [0., 1., 0.],\n",
              "       [0., 1., 0.],\n",
              "       [0., 1., 0.],\n",
              "       [0., 1., 0.],\n",
              "       [0., 1., 0.],\n",
              "       [0., 1., 0.],\n",
              "       [0., 1., 0.],\n",
              "       [0., 1., 0.],\n",
              "       [0., 1., 0.],\n",
              "       [0., 1., 0.],\n",
              "       [0., 1., 0.],\n",
              "       [0., 1., 0.],\n",
              "       [0., 1., 0.],\n",
              "       [0., 1., 0.],\n",
              "       [0., 1., 0.],\n",
              "       [0., 1., 0.],\n",
              "       [0., 1., 0.],\n",
              "       [0., 1., 0.],\n",
              "       [0., 1., 0.],\n",
              "       [0., 1., 0.],\n",
              "       [0., 1., 0.],\n",
              "       [0., 1., 0.],\n",
              "       [0., 1., 0.],\n",
              "       [0., 1., 0.],\n",
              "       [0., 1., 0.],\n",
              "       [0., 1., 0.],\n",
              "       [0., 1., 0.],\n",
              "       [0., 1., 0.],\n",
              "       [0., 1., 0.],\n",
              "       [0., 1., 0.],\n",
              "       [0., 1., 0.],\n",
              "       [0., 1., 0.],\n",
              "       [0., 1., 0.],\n",
              "       [0., 1., 0.],\n",
              "       [0., 1., 0.],\n",
              "       [0., 1., 0.],\n",
              "       [0., 1., 0.],\n",
              "       [0., 1., 0.],\n",
              "       [0., 1., 0.],\n",
              "       [0., 1., 0.],\n",
              "       [0., 1., 0.],\n",
              "       [0., 1., 0.],\n",
              "       [0., 1., 0.],\n",
              "       [0., 1., 0.],\n",
              "       [0., 1., 0.],\n",
              "       [0., 1., 0.],\n",
              "       [0., 1., 0.],\n",
              "       [0., 0., 1.],\n",
              "       [0., 0., 1.],\n",
              "       [0., 0., 1.],\n",
              "       [0., 0., 1.],\n",
              "       [0., 0., 1.],\n",
              "       [0., 0., 1.],\n",
              "       [0., 0., 1.],\n",
              "       [0., 0., 1.],\n",
              "       [0., 0., 1.],\n",
              "       [0., 0., 1.],\n",
              "       [0., 0., 1.],\n",
              "       [0., 0., 1.],\n",
              "       [0., 0., 1.],\n",
              "       [0., 0., 1.],\n",
              "       [0., 0., 1.],\n",
              "       [0., 0., 1.],\n",
              "       [0., 0., 1.],\n",
              "       [0., 0., 1.],\n",
              "       [0., 0., 1.],\n",
              "       [0., 0., 1.],\n",
              "       [0., 0., 1.],\n",
              "       [0., 0., 1.],\n",
              "       [0., 0., 1.],\n",
              "       [0., 0., 1.],\n",
              "       [0., 0., 1.],\n",
              "       [0., 0., 1.],\n",
              "       [0., 0., 1.],\n",
              "       [0., 0., 1.],\n",
              "       [0., 0., 1.],\n",
              "       [0., 0., 1.],\n",
              "       [0., 0., 1.],\n",
              "       [0., 0., 1.],\n",
              "       [0., 0., 1.],\n",
              "       [0., 0., 1.],\n",
              "       [0., 0., 1.],\n",
              "       [0., 0., 1.],\n",
              "       [0., 0., 1.],\n",
              "       [0., 0., 1.],\n",
              "       [0., 0., 1.],\n",
              "       [0., 0., 1.],\n",
              "       [0., 0., 1.],\n",
              "       [0., 0., 1.],\n",
              "       [0., 0., 1.],\n",
              "       [0., 0., 1.],\n",
              "       [0., 0., 1.],\n",
              "       [0., 0., 1.],\n",
              "       [0., 0., 1.],\n",
              "       [0., 0., 1.],\n",
              "       [0., 0., 1.],\n",
              "       [0., 0., 1.]], dtype=float32)"
            ]
          },
          "metadata": {},
          "execution_count": 28
        }
      ]
    },
    {
      "cell_type": "code",
      "source": [
        "\n",
        "from sklearn.model_selection import train_test_split\n",
        "X_train,X_test,y_train,y_test=train_test_split(X,y,test_size=0.2,random_state=1)"
      ],
      "metadata": {
        "id": "kxYJZDLL77he"
      },
      "execution_count": null,
      "outputs": []
    },
    {
      "cell_type": "code",
      "source": [
        "mlp=Sequential()\n",
        "mlp.add(Dense(64,input_dim=4,activation='relu'))\n",
        "mlp.add(Dense(64,activation='relu'))\n",
        "mlp.add(Dense(3,activation='softmax'))\n",
        "mlp.summary()"
      ],
      "metadata": {
        "colab": {
          "base_uri": "https://localhost:8080/"
        },
        "id": "nk7pK3vK_5Lz",
        "outputId": "6d290ec5-d1f5-40f4-b829-03016bec585e"
      },
      "execution_count": null,
      "outputs": [
        {
          "output_type": "stream",
          "name": "stdout",
          "text": [
            "Model: \"sequential_1\"\n",
            "_________________________________________________________________\n",
            " Layer (type)                Output Shape              Param #   \n",
            "=================================================================\n",
            " dense_3 (Dense)             (None, 64)                320       \n",
            "                                                                 \n",
            " dense_4 (Dense)             (None, 64)                4160      \n",
            "                                                                 \n",
            " dense_5 (Dense)             (None, 3)                 195       \n",
            "                                                                 \n",
            "=================================================================\n",
            "Total params: 4675 (18.26 KB)\n",
            "Trainable params: 4675 (18.26 KB)\n",
            "Non-trainable params: 0 (0.00 Byte)\n",
            "_________________________________________________________________\n"
          ]
        }
      ]
    },
    {
      "cell_type": "code",
      "source": [
        "from tensorflow import keras\n",
        "opt = keras.optimizers.SGD(learning_rate=0.01)\n",
        "mlp.compile(loss='categorical_crossentropy',optimizer=opt,metrics=['accuracy'])"
      ],
      "metadata": {
        "id": "eeL4rhUGASur"
      },
      "execution_count": null,
      "outputs": []
    },
    {
      "cell_type": "code",
      "source": [
        "history=mlp.fit(X_train,y_train,epochs=50, batch_size=8,validation_split=0.10 )"
      ],
      "metadata": {
        "colab": {
          "base_uri": "https://localhost:8080/"
        },
        "id": "E8UqZ3lsAcXG",
        "outputId": "618eef03-74bc-42a6-f79f-5338088e2c64"
      },
      "execution_count": null,
      "outputs": [
        {
          "output_type": "stream",
          "name": "stdout",
          "text": [
            "Epoch 1/50\n",
            "14/14 [==============================] - 1s 38ms/step - loss: 0.9650 - accuracy: 0.4444 - val_loss: 0.7921 - val_accuracy: 0.7500\n",
            "Epoch 2/50\n",
            "14/14 [==============================] - 0s 5ms/step - loss: 0.8136 - accuracy: 0.7407 - val_loss: 0.7173 - val_accuracy: 0.7500\n",
            "Epoch 3/50\n",
            "14/14 [==============================] - 0s 6ms/step - loss: 0.7196 - accuracy: 0.7222 - val_loss: 0.6489 - val_accuracy: 0.9167\n",
            "Epoch 4/50\n",
            "14/14 [==============================] - 0s 5ms/step - loss: 0.6255 - accuracy: 0.8519 - val_loss: 0.5681 - val_accuracy: 0.7500\n",
            "Epoch 5/50\n",
            "14/14 [==============================] - 0s 5ms/step - loss: 0.5721 - accuracy: 0.7685 - val_loss: 0.5776 - val_accuracy: 0.9167\n",
            "Epoch 6/50\n",
            "14/14 [==============================] - 0s 5ms/step - loss: 0.5208 - accuracy: 0.8519 - val_loss: 0.4981 - val_accuracy: 0.9167\n",
            "Epoch 7/50\n",
            "14/14 [==============================] - 0s 5ms/step - loss: 0.4743 - accuracy: 0.8519 - val_loss: 0.5099 - val_accuracy: 0.9167\n",
            "Epoch 8/50\n",
            "14/14 [==============================] - 0s 5ms/step - loss: 0.4561 - accuracy: 0.8704 - val_loss: 0.4561 - val_accuracy: 0.9167\n",
            "Epoch 9/50\n",
            "14/14 [==============================] - 0s 6ms/step - loss: 0.4176 - accuracy: 0.8796 - val_loss: 0.6240 - val_accuracy: 0.5000\n",
            "Epoch 10/50\n",
            "14/14 [==============================] - 0s 4ms/step - loss: 0.4162 - accuracy: 0.8333 - val_loss: 0.5525 - val_accuracy: 0.7500\n",
            "Epoch 11/50\n",
            "14/14 [==============================] - 0s 5ms/step - loss: 0.3830 - accuracy: 0.9259 - val_loss: 0.3753 - val_accuracy: 0.9167\n",
            "Epoch 12/50\n",
            "14/14 [==============================] - 0s 4ms/step - loss: 0.3509 - accuracy: 0.9259 - val_loss: 0.3617 - val_accuracy: 0.9167\n",
            "Epoch 13/50\n",
            "14/14 [==============================] - 0s 4ms/step - loss: 0.3422 - accuracy: 0.9167 - val_loss: 0.4272 - val_accuracy: 0.8333\n",
            "Epoch 14/50\n",
            "14/14 [==============================] - 0s 4ms/step - loss: 0.3279 - accuracy: 0.9352 - val_loss: 0.3529 - val_accuracy: 0.9167\n",
            "Epoch 15/50\n",
            "14/14 [==============================] - 0s 5ms/step - loss: 0.3177 - accuracy: 0.9167 - val_loss: 0.4361 - val_accuracy: 0.8333\n",
            "Epoch 16/50\n",
            "14/14 [==============================] - 0s 4ms/step - loss: 0.3065 - accuracy: 0.9722 - val_loss: 0.3203 - val_accuracy: 0.9167\n",
            "Epoch 17/50\n",
            "14/14 [==============================] - 0s 5ms/step - loss: 0.3031 - accuracy: 0.9074 - val_loss: 0.4279 - val_accuracy: 0.8333\n",
            "Epoch 18/50\n",
            "14/14 [==============================] - 0s 4ms/step - loss: 0.2792 - accuracy: 0.9259 - val_loss: 0.3844 - val_accuracy: 0.8333\n",
            "Epoch 19/50\n",
            "14/14 [==============================] - 0s 6ms/step - loss: 0.2567 - accuracy: 0.9722 - val_loss: 0.3932 - val_accuracy: 0.8333\n",
            "Epoch 20/50\n",
            "14/14 [==============================] - 0s 4ms/step - loss: 0.2505 - accuracy: 0.9722 - val_loss: 0.3037 - val_accuracy: 0.9167\n",
            "Epoch 21/50\n",
            "14/14 [==============================] - 0s 4ms/step - loss: 0.2559 - accuracy: 0.9537 - val_loss: 0.3578 - val_accuracy: 0.8333\n",
            "Epoch 22/50\n",
            "14/14 [==============================] - 0s 5ms/step - loss: 0.2324 - accuracy: 0.9537 - val_loss: 0.2754 - val_accuracy: 0.9167\n",
            "Epoch 23/50\n",
            "14/14 [==============================] - 0s 4ms/step - loss: 0.2221 - accuracy: 0.9722 - val_loss: 0.2561 - val_accuracy: 0.9167\n",
            "Epoch 24/50\n",
            "14/14 [==============================] - 0s 5ms/step - loss: 0.2331 - accuracy: 0.9259 - val_loss: 0.3715 - val_accuracy: 0.8333\n",
            "Epoch 25/50\n",
            "14/14 [==============================] - 0s 5ms/step - loss: 0.2256 - accuracy: 0.9630 - val_loss: 0.3843 - val_accuracy: 0.8333\n",
            "Epoch 26/50\n",
            "14/14 [==============================] - 0s 5ms/step - loss: 0.2029 - accuracy: 0.9630 - val_loss: 0.2566 - val_accuracy: 0.9167\n",
            "Epoch 27/50\n",
            "14/14 [==============================] - 0s 5ms/step - loss: 0.1962 - accuracy: 0.9537 - val_loss: 0.2436 - val_accuracy: 0.9167\n",
            "Epoch 28/50\n",
            "14/14 [==============================] - 0s 4ms/step - loss: 0.1874 - accuracy: 0.9537 - val_loss: 0.2296 - val_accuracy: 0.9167\n",
            "Epoch 29/50\n",
            "14/14 [==============================] - 0s 4ms/step - loss: 0.2021 - accuracy: 0.9537 - val_loss: 0.2268 - val_accuracy: 0.9167\n",
            "Epoch 30/50\n",
            "14/14 [==============================] - 0s 5ms/step - loss: 0.1850 - accuracy: 0.9537 - val_loss: 0.2230 - val_accuracy: 0.9167\n",
            "Epoch 31/50\n",
            "14/14 [==============================] - 0s 4ms/step - loss: 0.1799 - accuracy: 0.9722 - val_loss: 0.2322 - val_accuracy: 0.9167\n",
            "Epoch 32/50\n",
            "14/14 [==============================] - 0s 6ms/step - loss: 0.1676 - accuracy: 0.9722 - val_loss: 0.2226 - val_accuracy: 0.9167\n",
            "Epoch 33/50\n",
            "14/14 [==============================] - 0s 8ms/step - loss: 0.1833 - accuracy: 0.9537 - val_loss: 0.2238 - val_accuracy: 0.9167\n",
            "Epoch 34/50\n",
            "14/14 [==============================] - 0s 7ms/step - loss: 0.1497 - accuracy: 0.9722 - val_loss: 0.2094 - val_accuracy: 0.9167\n",
            "Epoch 35/50\n",
            "14/14 [==============================] - 0s 7ms/step - loss: 0.1431 - accuracy: 0.9907 - val_loss: 0.2189 - val_accuracy: 0.9167\n",
            "Epoch 36/50\n",
            "14/14 [==============================] - 0s 7ms/step - loss: 0.1414 - accuracy: 0.9537 - val_loss: 0.2191 - val_accuracy: 0.9167\n",
            "Epoch 37/50\n",
            "14/14 [==============================] - 0s 6ms/step - loss: 0.1493 - accuracy: 0.9722 - val_loss: 0.2900 - val_accuracy: 0.8333\n",
            "Epoch 38/50\n",
            "14/14 [==============================] - 0s 7ms/step - loss: 0.1559 - accuracy: 0.9630 - val_loss: 0.2592 - val_accuracy: 0.8333\n",
            "Epoch 39/50\n",
            "14/14 [==============================] - 0s 7ms/step - loss: 0.1430 - accuracy: 0.9815 - val_loss: 0.2089 - val_accuracy: 0.9167\n",
            "Epoch 40/50\n",
            "14/14 [==============================] - 0s 7ms/step - loss: 0.1654 - accuracy: 0.9444 - val_loss: 0.1964 - val_accuracy: 0.9167\n",
            "Epoch 41/50\n",
            "14/14 [==============================] - 0s 6ms/step - loss: 0.1382 - accuracy: 0.9815 - val_loss: 0.2286 - val_accuracy: 0.9167\n",
            "Epoch 42/50\n",
            "14/14 [==============================] - 0s 7ms/step - loss: 0.1295 - accuracy: 0.9815 - val_loss: 0.2091 - val_accuracy: 0.9167\n",
            "Epoch 43/50\n",
            "14/14 [==============================] - 0s 7ms/step - loss: 0.1228 - accuracy: 0.9722 - val_loss: 0.2587 - val_accuracy: 0.9167\n",
            "Epoch 44/50\n",
            "14/14 [==============================] - 0s 10ms/step - loss: 0.1391 - accuracy: 0.9722 - val_loss: 0.2027 - val_accuracy: 0.9167\n",
            "Epoch 45/50\n",
            "14/14 [==============================] - 0s 7ms/step - loss: 0.1420 - accuracy: 0.9537 - val_loss: 0.5860 - val_accuracy: 0.7500\n",
            "Epoch 46/50\n",
            "14/14 [==============================] - 0s 7ms/step - loss: 0.1485 - accuracy: 0.9630 - val_loss: 0.2225 - val_accuracy: 0.8333\n",
            "Epoch 47/50\n",
            "14/14 [==============================] - 0s 5ms/step - loss: 0.1300 - accuracy: 0.9630 - val_loss: 0.2347 - val_accuracy: 0.9167\n",
            "Epoch 48/50\n",
            "14/14 [==============================] - 0s 5ms/step - loss: 0.1256 - accuracy: 0.9722 - val_loss: 0.5678 - val_accuracy: 0.7500\n",
            "Epoch 49/50\n",
            "14/14 [==============================] - 0s 6ms/step - loss: 0.1374 - accuracy: 0.9537 - val_loss: 0.2129 - val_accuracy: 0.9167\n",
            "Epoch 50/50\n",
            "14/14 [==============================] - 0s 7ms/step - loss: 0.1280 - accuracy: 0.9722 - val_loss: 0.3189 - val_accuracy: 0.8333\n"
          ]
        }
      ]
    },
    {
      "cell_type": "code",
      "source": [
        "mlp.evaluate(X_test,y_test)"
      ],
      "metadata": {
        "colab": {
          "base_uri": "https://localhost:8080/"
        },
        "id": "oOPmXQFmAhDy",
        "outputId": "a26f5f09-4190-46e6-bb12-3c156534e050"
      },
      "execution_count": null,
      "outputs": [
        {
          "output_type": "stream",
          "name": "stdout",
          "text": [
            "1/1 [==============================] - 0s 105ms/step - loss: 0.1695 - accuracy: 0.9333\n"
          ]
        },
        {
          "output_type": "execute_result",
          "data": {
            "text/plain": [
              "[0.16946503520011902, 0.9333333373069763]"
            ]
          },
          "metadata": {},
          "execution_count": 36
        }
      ]
    },
    {
      "cell_type": "code",
      "source": [
        "\n",
        "import matplotlib.pyplot as plt\n",
        "print(history.history.keys())\n",
        "# summarize history for accuracy\n",
        "plt.plot(history.history['accuracy'])\n",
        "plt.plot(history.history['val_accuracy'])\n",
        "plt.title('model accuracy')\n",
        "plt.ylabel('accuracy')\n",
        "plt.xlabel('epoch')\n",
        "plt.legend(['train', 'valid'], loc='upper left')\n",
        "plt.show()\n",
        "# summarize history for loss\n",
        "plt.plot(history.history['loss'])\n",
        "plt.plot(history.history['val_loss'])\n",
        "plt.title('model loss')\n",
        "plt.ylabel('loss')\n",
        "plt.xlabel('epoch')\n",
        "plt.legend(['train', 'valid'], loc='upper left')\n",
        "plt.show()"
      ],
      "metadata": {
        "colab": {
          "base_uri": "https://localhost:8080/",
          "height": 945
        },
        "id": "bxnfz_sEAl6W",
        "outputId": "8c82548b-9754-4c7a-b9eb-1ed663bfd5a6"
      },
      "execution_count": null,
      "outputs": [
        {
          "output_type": "stream",
          "name": "stdout",
          "text": [
            "dict_keys(['loss', 'accuracy', 'val_loss', 'val_accuracy'])\n"
          ]
        },
        {
          "output_type": "display_data",
          "data": {
            "text/plain": [
              "<Figure size 640x480 with 1 Axes>"
            ],
            "image/png": "[encoded data removed]"
          },
          "metadata": {}
        },
        {
          "output_type": "display_data",
          "data": {
            "text/plain": [
              "<Figure size 640x480 with 1 Axes>"
            ],
            "image/png": "[encoded data removed]"
          },
          "metadata": {}
        }
      ]
    },
    {
      "cell_type": "code",
      "source": [
        "predIdx=mlp.predict(X_test)\n",
        "pred=np.argmax(predIdx,axis=1)\n"
      ],
      "metadata": {
        "colab": {
          "base_uri": "https://localhost:8080/"
        },
        "id": "Kt8o6V9hAsjr",
        "outputId": "a9f8fdf0-b7e8-45b4-992a-9eeda57009e7"
      },
      "execution_count": null,
      "outputs": [
        {
          "output_type": "stream",
          "name": "stdout",
          "text": [
            "1/1 [==============================] - 0s 65ms/step\n"
          ]
        }
      ]
    },
    {
      "cell_type": "code",
      "source": [
        "from sklearn.metrics import confusion_matrix\n",
        "print(pred)\n",
        "y_test=np.argmax(y_test,axis=1)"
      ],
      "metadata": {
        "colab": {
          "base_uri": "https://localhost:8080/"
        },
        "id": "rAuWyaqVBHKR",
        "outputId": "e1534c1e-f778-4477-cc6c-0a8a98c6a266"
      },
      "execution_count": null,
      "outputs": [
        {
          "output_type": "stream",
          "name": "stdout",
          "text": [
            "[0 1 1 0 1 1 1 0 0 2 1 0 2 1 1 0 1 1 0 0 1 1 1 0 2 1 0 0 1 2]\n"
          ]
        }
      ]
    },
    {
      "cell_type": "code",
      "source": [
        "y_test"
      ],
      "metadata": {
        "colab": {
          "base_uri": "https://localhost:8080/"
        },
        "id": "7_p8segpNTg8",
        "outputId": "5e75b196-fae9-49e3-8d54-774829825c0f"
      },
      "execution_count": null,
      "outputs": [
        {
          "output_type": "execute_result",
          "data": {
            "text/plain": [
              "array([0, 1, 1, 0, 2, 1, 2, 0, 0, 2, 1, 0, 2, 1, 1, 0, 1, 1, 0, 0, 1, 1,\n",
              "       1, 0, 2, 1, 0, 0, 1, 2])"
            ]
          },
          "metadata": {},
          "execution_count": 45
        }
      ]
    },
    {
      "cell_type": "code",
      "source": [
        "confusion_matrix(y_test,pred)"
      ],
      "metadata": {
        "colab": {
          "base_uri": "https://localhost:8080/"
        },
        "id": "W0OoMGvXNVPy",
        "outputId": "c3455049-8d18-463e-c595-2bd084bc8501"
      },
      "execution_count": null,
      "outputs": [
        {
          "output_type": "execute_result",
          "data": {
            "text/plain": [
              "array([[11,  0,  0],\n",
              "       [ 0, 13,  0],\n",
              "       [ 0,  2,  4]])"
            ]
          },
          "metadata": {},
          "execution_count": 46
        }
      ]
    },
    {
      "cell_type": "code",
      "source": [
        "from sklearn.metrics import classification_report\n",
        "print(classification_report(y_test,pred))"
      ],
      "metadata": {
        "colab": {
          "base_uri": "https://localhost:8080/"
        },
        "id": "NietKnU5N_CZ",
        "outputId": "a113dce9-d7af-48a9-894a-5ecfe81b1881"
      },
      "execution_count": null,
      "outputs": [
        {
          "output_type": "stream",
          "name": "stdout",
          "text": [
            "              precision    recall  f1-score   support\n",
            "\n",
            "           0       1.00      1.00      1.00        11\n",
            "           1       0.87      1.00      0.93        13\n",
            "           2       1.00      0.67      0.80         6\n",
            "\n",
            "    accuracy                           0.93        30\n",
            "   macro avg       0.96      0.89      0.91        30\n",
            "weighted avg       0.94      0.93      0.93        30\n",
            "\n"
          ]
        }
      ]
    }
  ]
}